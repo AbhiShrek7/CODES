{
  "nbformat": 4,
  "nbformat_minor": 0,
  "metadata": {
    "colab": {
      "provenance": []
    },
    "kernelspec": {
      "name": "python3",
      "display_name": "Python 3"
    },
    "language_info": {
      "name": "python"
    }
  },
  "cells": [
    {
      "cell_type": "markdown",
      "source": [
        "**Withdrawing money from bank account and balance check.**"
      ],
      "metadata": {
        "id": "JwaQ_JBsSLR8"
      }
    },
    {
      "cell_type": "code",
      "execution_count": null,
      "metadata": {
        "id": "ITiRwPNvSCAN"
      },
      "outputs": [],
      "source": [
        "class Bank_Account:\n",
        "\tdef __init__(self):\n",
        "\t\tself.balance=0\n",
        "\t\tprint(\"You can either deposit or withdraw the money\")\n",
        "\n",
        "# In function deposit and withdraw , amount is taken as input and is then added/subtracted to the balance.\n",
        "\tdef deposit(self):\n",
        "\t\tamount=int(input(\"Enter amount to be Deposited: \"))\n",
        "\t\tself.balance += amount\n",
        "\t\tprint(\"\\n Amount Deposited:\",amount)\n",
        "\n",
        "\tdef withdraw(self):\n",
        "\t\tamount = int(input(\"Enter amount to be Withdrawn: \"))\n",
        "\t\tif self.balance>=amount:\n",
        "\t\t\tself.balance-=amount\n",
        "\t\t\tprint(\"\\n You Withdrew:\", amount)\n",
        "\t\telse:\n",
        "\t\t\tprint(\"\\n Insufficient balance \")\n",
        "\n",
        "\tdef display(self):\n",
        "\t\tprint(\"\\n Net Available Balance=\",self.balance)\n",
        "\n",
        "#Here we are creating an object of a class\n",
        "A = Bank_Account()\n",
        "\n",
        "#And here we calling function with the class object\n",
        "A.deposit()\n",
        "A.withdraw()\n",
        "A.display()"
      ]
    }
  ]
}