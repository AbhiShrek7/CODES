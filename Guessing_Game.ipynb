{
  "nbformat": 4,
  "nbformat_minor": 0,
  "metadata": {
    "colab": {
      "provenance": []
    },
    "kernelspec": {
      "name": "python3",
      "display_name": "Python 3"
    },
    "language_info": {
      "name": "python"
    }
  },
  "cells": [
    {
      "cell_type": "code",
      "execution_count": 10,
      "metadata": {
        "id": "1smy1J4GcV85"
      },
      "outputs": [],
      "source": [
        "secret_number = 9\n",
        "guess_count=0\n",
        "guess_limit = 3\n",
        "while guess_count > guess_limit:\n",
        "  guess = int(input('guess number: '))\n",
        "  guess_count += 1\n",
        "  if guess == secret_number:\n",
        "    print(\"your guess is correct\")\n",
        "    break\n",
        "  else:\n",
        "    print(\"Your guess is wrong\")"
      ]
    },
    {
      "cell_type": "code",
      "source": [
        "import random\n",
        "import math\n",
        "# Taking Lower Inputs\n",
        "lower = int(input(\"Enter Lower limit:- \"))\n",
        "\n",
        "# Taking Hugher Inputs\n",
        "upper = int(input(\"Enter Upper limit:- \"))\n",
        "\n",
        "# Here generating random number between the higher and the lower inputs\n",
        "x = random.randint(lower, upper)\n",
        "print(\"\\n\\tYou've only \",\n",
        "\tround(math.log(upper - lower + 1, 2)),\n",
        "\t\" chances to guess the integer!\\n\")\n",
        "\n",
        "# Initializing the number of guesses.\n",
        "count = 0\n",
        "\n",
        "while count < math.log(upper - lower + 1, 2):\n",
        "\tcount += 1\n",
        "\n",
        "\t# Taking guessing number as input\n",
        "\tguess = int(input(\"Guess a number:- \"))\n",
        "\n",
        "\n",
        "\tif x == guess:\n",
        "\t\tprint(\"Congratulations you did it in \",\n",
        "\t\t\tcount, \" try\")\n",
        "\t\tbreak\n",
        "\telif x > guess:\n",
        "\t\tprint(\"You guessed too small!\")\n",
        "\telif x < guess:\n",
        "\t\tprint(\"You Guessed too high!\")\n",
        "\n",
        "if count >= math.log(upper - lower + 1, 2):\n",
        "\tprint(\"\\nThe number is %d\" % x)\n",
        "\tprint(\"\\tBetter Luck Next time!\")"
      ],
      "metadata": {
        "colab": {
          "base_uri": "https://localhost:8080/"
        },
        "id": "PHpQ1-6ceQb8",
        "outputId": "205dccc9-1faf-4079-c01d-478ee91ebf8c"
      },
      "execution_count": 9,
      "outputs": [
        {
          "output_type": "stream",
          "name": "stdout",
          "text": [
            "Enter Lower limit:- 20\n",
            "Enter Upper limit:- 30\n",
            "\n",
            "\tYou've only  3  chances to guess the integer!\n",
            "\n",
            "Guess a number:- 25\n",
            "You guessed too small!\n",
            "Guess a number:- 29\n",
            "You Guessed too high!\n",
            "Guess a number:- 27\n",
            "You Guessed too high!\n",
            "Guess a number:- 26\n",
            "Congratulations you did it in  4  try\n",
            "\n",
            "The number is 26\n",
            "\tBetter Luck Next time!\n"
          ]
        }
      ]
    }
  ]
}